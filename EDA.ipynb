{
 "cells": [
  {
   "cell_type": "code",
   "id": "initial_id",
   "metadata": {
    "collapsed": true,
    "ExecuteTime": {
     "end_time": "2025-06-25T08:39:47.861555Z",
     "start_time": "2025-06-25T08:39:47.601542Z"
    }
   },
   "source": [
    "import pandas as pd\n",
    "import numpy as np\n",
    "import matplotlib.pyplot as plt"
   ],
   "outputs": [],
   "execution_count": 6
  },
  {
   "metadata": {
    "ExecuteTime": {
     "end_time": "2025-06-25T08:33:53.788223Z",
     "start_time": "2025-06-25T08:33:53.761598Z"
    }
   },
   "cell_type": "code",
   "source": [
    "churn = pd.read_csv('Churn_Modelling.csv')\n",
    "churn.head()"
   ],
   "id": "d453a9f1df0c1f0c",
   "outputs": [
    {
     "data": {
      "text/plain": [
       "   RowNumber  CustomerId   Surname  CreditScore Geography  Gender  Age  \\\n",
       "0          1    15634602  Hargrave          619    France  Female   42   \n",
       "1          2    15647311      Hill          608     Spain  Female   41   \n",
       "2          3    15619304      Onio          502    France  Female   42   \n",
       "3          4    15701354      Boni          699    France  Female   39   \n",
       "4          5    15737888  Mitchell          850     Spain  Female   43   \n",
       "\n",
       "   Tenure    Balance  NumOfProducts  HasCrCard  IsActiveMember  \\\n",
       "0       2       0.00              1          1               1   \n",
       "1       1   83807.86              1          0               1   \n",
       "2       8  159660.80              3          1               0   \n",
       "3       1       0.00              2          0               0   \n",
       "4       2  125510.82              1          1               1   \n",
       "\n",
       "   EstimatedSalary  Exited  \n",
       "0        101348.88       1  \n",
       "1        112542.58       0  \n",
       "2        113931.57       1  \n",
       "3         93826.63       0  \n",
       "4         79084.10       0  "
      ],
      "text/html": [
       "<div>\n",
       "<style scoped>\n",
       "    .dataframe tbody tr th:only-of-type {\n",
       "        vertical-align: middle;\n",
       "    }\n",
       "\n",
       "    .dataframe tbody tr th {\n",
       "        vertical-align: top;\n",
       "    }\n",
       "\n",
       "    .dataframe thead th {\n",
       "        text-align: right;\n",
       "    }\n",
       "</style>\n",
       "<table border=\"1\" class=\"dataframe\">\n",
       "  <thead>\n",
       "    <tr style=\"text-align: right;\">\n",
       "      <th></th>\n",
       "      <th>RowNumber</th>\n",
       "      <th>CustomerId</th>\n",
       "      <th>Surname</th>\n",
       "      <th>CreditScore</th>\n",
       "      <th>Geography</th>\n",
       "      <th>Gender</th>\n",
       "      <th>Age</th>\n",
       "      <th>Tenure</th>\n",
       "      <th>Balance</th>\n",
       "      <th>NumOfProducts</th>\n",
       "      <th>HasCrCard</th>\n",
       "      <th>IsActiveMember</th>\n",
       "      <th>EstimatedSalary</th>\n",
       "      <th>Exited</th>\n",
       "    </tr>\n",
       "  </thead>\n",
       "  <tbody>\n",
       "    <tr>\n",
       "      <th>0</th>\n",
       "      <td>1</td>\n",
       "      <td>15634602</td>\n",
       "      <td>Hargrave</td>\n",
       "      <td>619</td>\n",
       "      <td>France</td>\n",
       "      <td>Female</td>\n",
       "      <td>42</td>\n",
       "      <td>2</td>\n",
       "      <td>0.00</td>\n",
       "      <td>1</td>\n",
       "      <td>1</td>\n",
       "      <td>1</td>\n",
       "      <td>101348.88</td>\n",
       "      <td>1</td>\n",
       "    </tr>\n",
       "    <tr>\n",
       "      <th>1</th>\n",
       "      <td>2</td>\n",
       "      <td>15647311</td>\n",
       "      <td>Hill</td>\n",
       "      <td>608</td>\n",
       "      <td>Spain</td>\n",
       "      <td>Female</td>\n",
       "      <td>41</td>\n",
       "      <td>1</td>\n",
       "      <td>83807.86</td>\n",
       "      <td>1</td>\n",
       "      <td>0</td>\n",
       "      <td>1</td>\n",
       "      <td>112542.58</td>\n",
       "      <td>0</td>\n",
       "    </tr>\n",
       "    <tr>\n",
       "      <th>2</th>\n",
       "      <td>3</td>\n",
       "      <td>15619304</td>\n",
       "      <td>Onio</td>\n",
       "      <td>502</td>\n",
       "      <td>France</td>\n",
       "      <td>Female</td>\n",
       "      <td>42</td>\n",
       "      <td>8</td>\n",
       "      <td>159660.80</td>\n",
       "      <td>3</td>\n",
       "      <td>1</td>\n",
       "      <td>0</td>\n",
       "      <td>113931.57</td>\n",
       "      <td>1</td>\n",
       "    </tr>\n",
       "    <tr>\n",
       "      <th>3</th>\n",
       "      <td>4</td>\n",
       "      <td>15701354</td>\n",
       "      <td>Boni</td>\n",
       "      <td>699</td>\n",
       "      <td>France</td>\n",
       "      <td>Female</td>\n",
       "      <td>39</td>\n",
       "      <td>1</td>\n",
       "      <td>0.00</td>\n",
       "      <td>2</td>\n",
       "      <td>0</td>\n",
       "      <td>0</td>\n",
       "      <td>93826.63</td>\n",
       "      <td>0</td>\n",
       "    </tr>\n",
       "    <tr>\n",
       "      <th>4</th>\n",
       "      <td>5</td>\n",
       "      <td>15737888</td>\n",
       "      <td>Mitchell</td>\n",
       "      <td>850</td>\n",
       "      <td>Spain</td>\n",
       "      <td>Female</td>\n",
       "      <td>43</td>\n",
       "      <td>2</td>\n",
       "      <td>125510.82</td>\n",
       "      <td>1</td>\n",
       "      <td>1</td>\n",
       "      <td>1</td>\n",
       "      <td>79084.10</td>\n",
       "      <td>0</td>\n",
       "    </tr>\n",
       "  </tbody>\n",
       "</table>\n",
       "</div>"
      ]
     },
     "execution_count": 3,
     "metadata": {},
     "output_type": "execute_result"
    }
   ],
   "execution_count": 3
  },
  {
   "metadata": {},
   "cell_type": "markdown",
   "source": [
    "**RowNumber**: An index representing the row number in the dataset. It is a sequential identifier for each record.\n",
    "\n",
    "**CustomerId**: A unique identifier assigned to each customer. This ID can be used to distinguish individual customer records.\n",
    "\n",
    "**Surname**: The last name of the customer. This is a textual field containing the surname of the individual.\n",
    "\n",
    "**CreditScore**: A numerical value representing the credit score of the customer. Credit scores are used to evaluate the creditworthiness of an individual.\n",
    "\n",
    "**Geography**: The country of residence of the customer. This field indicates the geographical location associated with the customer.\n",
    "\n",
    "**Gender**: The gender of the customer, typically categorized as Male or Female.\n",
    "\n",
    "**Age**: The age of the customer in years. This is a numerical field indicating how old the customer is.\n",
    "\n",
    "**Tenure**: The number of years the customer has been with the bank. This field represents the duration of the customer's relationship with the bank.\n",
    "\n",
    "**Balance**: The account balance of the customer. This is a numerical field that could represent the amount of money in the customer's account.\n",
    "\n",
    "**NumOfProducts**: The number of bank products the customer uses, such as savings accounts, credit cards, etc. This is a numerical field indicating product usage.\n",
    "\n",
    "**HasCrCard**: A binary indicator (1 or 0) showing whether the customer has a credit card. 1 means the customer has a credit card, and 0 means they do not.\n",
    "\n",
    "**IsActiveMember**: A binary indicator (1 or 0) showing whether the customer is an active member. 1 indicates an active member, and 0 indicates an inactive member.\n",
    "\n",
    "**EstimatedSalary**: An estimate of the customer's salary. This is a numerical field representing the estimated annual income of the customer.\n",
    "\n",
    "**Exited**: A binary indicator (1 or 0) used to predict customer churn. 1 means the customer has left the bank, and 0 means the customer has not left the bank."
   ],
   "id": "b12118bca254801c"
  },
  {
   "metadata": {},
   "cell_type": "markdown",
   "source": "### Credict Score Distribution",
   "id": "e2a889093d7a6fc9"
  },
  {
   "metadata": {
    "ExecuteTime": {
     "end_time": "2025-06-25T08:48:24.113057Z",
     "start_time": "2025-06-25T08:48:24.068464Z"
    }
   },
   "cell_type": "code",
   "source": [
    "minimum = np.min(churn['CreditScore'])\n",
    "q1 = np.percentile(churn['CreditScore'], 25)\n",
    "median = np.median(churn['CreditScore'])\n",
    "q3 = np.percentile(churn['CreditScore'], 75)\n",
    "maximum = np.max(churn['CreditScore'])\n",
    "iqr = q3 - q1\n",
    "\n",
    "plt.figure(figsize=(10,5))\n",
    "plt.boxplot(data=churn, x='CreditScore', vert=False)\n",
    "plt.setp(boxplot['fliers'], color='red', marker='o')\n",
    "plt.text(minimum, 1.1, f'Min: {minimum:.2f}', ha='center', fontsize=10, color='blue')\n",
    "plt.text(q1-20, 1.1, f'Q1: {q1:.2f}', ha='center', fontsize=10, color='blue')\n",
    "plt.text(median, 1.1, f'Median: {median:.2f}', ha='center', fontsize=10, color='blue')\n",
    "plt.text(q3+20, 1.1, f'Q3: {q3:.2f}', ha='center', fontsize=10, color='blue')\n",
    "plt.text(maximum, 1.1, f'Max: {maximum:.2f}', ha='center', fontsize=10, color='blue')\n",
    "plt.text(median, 0.8, f'IQR: {iqr:.2f}', ha='center', fontsize=10, color='blue')\n",
    "\n",
    "plt.title('Credit Score BoxPlot Distribution')\n",
    "plt.xlabel('Credit Score')\n",
    "plt.grid()\n",
    "\n",
    "\n",
    "plt.show()"
   ],
   "id": "79aab5f91e710088",
   "outputs": [
    {
     "data": {
      "text/plain": [
       "<Figure size 1000x500 with 1 Axes>"
      ],
      "image/png": "[encoded data removed]"
     },
     "metadata": {},
     "output_type": "display_data"
    }
   ],
   "execution_count": 30
  },
  {
   "metadata": {},
   "cell_type": "markdown",
   "source": "### Gender Distribution",
   "id": "6ef56c02ac75c6c7"
  },
  {
   "metadata": {
    "ExecuteTime": {
     "end_time": "2025-06-25T08:51:31.815071Z",
     "start_time": "2025-06-25T08:51:31.767340Z"
    }
   },
   "cell_type": "code",
   "source": [
    "plt.figure(figsize=(8,5))\n",
    "plt.bar(churn['Gender'].value_counts().index, churn['Gender'].value_counts())\n",
    "plt.title('Gender Distribution')\n",
    "plt.show()"
   ],
   "id": "ce5f10edf5103085",
   "outputs": [
    {
     "data": {
      "text/plain": [
       "<Figure size 800x500 with 1 Axes>"
      ],
      "image/png": "[encoded data removed]"
     },
     "metadata": {},
     "output_type": "display_data"
    }
   ],
   "execution_count": 38
  }
 ],
 "metadata": {
  "kernelspec": {
   "display_name": "Python 3",
   "language": "python",
   "name": "python3"
  },
  "language_info": {
   "codemirror_mode": {
    "name": "ipython",
    "version": 2
   },
   "file_extension": ".py",
   "mimetype": "text/x-python",
   "name": "python",
   "nbconvert_exporter": "python",
   "pygments_lexer": "ipython2",
   "version": "2.7.6"
  }
 },
 "nbformat": 4,
 "nbformat_minor": 5
}
